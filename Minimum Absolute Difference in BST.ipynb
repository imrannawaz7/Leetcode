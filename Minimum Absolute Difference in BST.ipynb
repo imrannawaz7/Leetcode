{
 "cells": [
  {
   "cell_type": "code",
   "execution_count": null,
   "metadata": {},
   "outputs": [],
   "source": [
    "# Definition for a binary tree node.\n",
    "# class TreeNode:\n",
    "#     def __init__(self, val=0, left=None, right=None):\n",
    "#         self.val = val\n",
    "#         self.left = left\n",
    "#         self.right = right\n",
    "class Solution:\n",
    "    def getMinimumDifference(self, root: TreeNode) -> int:\n",
    "        self.lst = []\n",
    "        def inorder(root):\n",
    "            if root:\n",
    "                inorder(root.left)\n",
    "                self.lst.append(root.val)\n",
    "                inorder(root.right)\n",
    "        \n",
    "        inorder(root)\n",
    "        \n",
    "        i = 0\n",
    "        diff = []\n",
    "        while i < len(self.lst)-1:\n",
    "            diff.append(abs(self.lst[i] - self.lst[i+1]))\n",
    "            i+=1\n",
    "        \n",
    "        diff = sorted(diff)\n",
    "        return diff[0]\n",
    "                "
   ]
  }
 ],
 "metadata": {
  "kernelspec": {
   "display_name": "Python 3",
   "language": "python",
   "name": "python3"
  },
  "language_info": {
   "codemirror_mode": {
    "name": "ipython",
    "version": 3
   },
   "file_extension": ".py",
   "mimetype": "text/x-python",
   "name": "python",
   "nbconvert_exporter": "python",
   "pygments_lexer": "ipython3",
   "version": "3.7.6"
  }
 },
 "nbformat": 4,
 "nbformat_minor": 4
}
