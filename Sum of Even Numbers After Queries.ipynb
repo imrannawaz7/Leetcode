{
 "cells": [
  {
   "cell_type": "code",
   "execution_count": 63,
   "metadata": {},
   "outputs": [],
   "source": [
    " def sumEvenAfterQueries(A, queries):\n",
    "        res = []\n",
    "        for i in queries:\n",
    "            for j in range(len(i)-1):\n",
    "                A[i[j+1]] += i[j]\n",
    "                even=[]\n",
    "                for num in A:\n",
    "                    if num % 2 ==0:\n",
    "                        even.append(num)\n",
    "                res.append(sum(even))\n",
    "        return res"
   ]
  },
  {
   "cell_type": "code",
   "execution_count": 64,
   "metadata": {},
   "outputs": [
    {
     "data": {
      "text/plain": [
       "[8, 6, 2, 4]"
      ]
     },
     "execution_count": 64,
     "metadata": {},
     "output_type": "execute_result"
    }
   ],
   "source": [
    "sumEvenAfterQueries([1,2,3,4], [[1,0],[-3,1],[-4,0],[2,3]])"
   ]
  },
  {
   "cell_type": "code",
   "execution_count": 94,
   "metadata": {},
   "outputs": [],
   "source": [
    " def sumEvenAfterQueries(A, queries):\n",
    "        res = []\n",
    "        for i in queries:\n",
    "            A[i[1]] += i[0]\n",
    "            even=[]\n",
    "            for num in A:\n",
    "                if num % 2 ==0:\n",
    "                    even.append(num)\n",
    "            res.append(sum(even))\n",
    "        return res"
   ]
  },
  {
   "cell_type": "code",
   "execution_count": 95,
   "metadata": {},
   "outputs": [
    {
     "data": {
      "text/plain": [
       "[8, 6, 2, 4]"
      ]
     },
     "execution_count": 95,
     "metadata": {},
     "output_type": "execute_result"
    }
   ],
   "source": [
    "sumEvenAfterQueries([1,2,3,4], [[1,0],[-3,1],[-4,0],[2,3]])"
   ]
  },
  {
   "cell_type": "code",
   "execution_count": null,
   "metadata": {},
   "outputs": [],
   "source": []
  }
 ],
 "metadata": {
  "kernelspec": {
   "display_name": "Python 3",
   "language": "python",
   "name": "python3"
  },
  "language_info": {
   "codemirror_mode": {
    "name": "ipython",
    "version": 3
   },
   "file_extension": ".py",
   "mimetype": "text/x-python",
   "name": "python",
   "nbconvert_exporter": "python",
   "pygments_lexer": "ipython3",
   "version": "3.7.6"
  }
 },
 "nbformat": 4,
 "nbformat_minor": 4
}
