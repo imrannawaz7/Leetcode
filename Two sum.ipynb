{
 "cells": [
  {
   "cell_type": "code",
   "execution_count": 22,
   "metadata": {},
   "outputs": [],
   "source": [
    "def two_sum(nums, target): #to get values\n",
    "    seen = set()\n",
    "    output = set()\n",
    "    \n",
    "    i = 0\n",
    "    \n",
    "    for num in nums:\n",
    "        value = target - num\n",
    "        \n",
    "        if value not in seen:\n",
    "            seen.add(num)\n",
    "        else:\n",
    "            output.add((min(num,value),max(num,value)))\n",
    "    return output\n",
    "            "
   ]
  },
  {
   "cell_type": "code",
   "execution_count": 23,
   "metadata": {},
   "outputs": [
    {
     "data": {
      "text/plain": [
       "{(2, 7)}"
      ]
     },
     "execution_count": 23,
     "metadata": {},
     "output_type": "execute_result"
    }
   ],
   "source": [
    "two_sum([2, 7, 11, 15],9)"
   ]
  },
  {
   "cell_type": "code",
   "execution_count": 35,
   "metadata": {},
   "outputs": [],
   "source": [
    "def two_sums2(nums,target): #two get indexes\n",
    "    for i in range(len(nums)):\n",
    "        x = target-nums[i]\n",
    "        if x in nums and nums.index(x) != i:\n",
    "            i1 = i\n",
    "            i2 = nums.index(x)\n",
    "            if i1 == i2:\n",
    "                nums[i1] = None\n",
    "                i2  = nums.index(x)\n",
    "    return [i2, i1]"
   ]
  },
  {
   "cell_type": "code",
   "execution_count": 36,
   "metadata": {},
   "outputs": [
    {
     "data": {
      "text/plain": [
       "[0, 1]"
      ]
     },
     "execution_count": 36,
     "metadata": {},
     "output_type": "execute_result"
    }
   ],
   "source": [
    "two_sums2([2, 7, 11, 15],9)"
   ]
  }
 ],
 "metadata": {
  "kernelspec": {
   "display_name": "Python 3",
   "language": "python",
   "name": "python3"
  },
  "language_info": {
   "codemirror_mode": {
    "name": "ipython",
    "version": 3
   },
   "file_extension": ".py",
   "mimetype": "text/x-python",
   "name": "python",
   "nbconvert_exporter": "python",
   "pygments_lexer": "ipython3",
   "version": "3.7.6"
  }
 },
 "nbformat": 4,
 "nbformat_minor": 4
}
