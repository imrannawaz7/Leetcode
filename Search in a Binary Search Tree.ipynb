{
 "cells": [
  {
   "cell_type": "code",
   "execution_count": null,
   "metadata": {},
   "outputs": [],
   "source": [
    "# Definition for a binary tree node.\n",
    "# class TreeNode:\n",
    "#     def __init__(self, val=0, left=None, right=None):\n",
    "#         self.val = val\n",
    "#         self.left = left\n",
    "#         self.right = right\n",
    "class Solution:\n",
    "    def searchBST(self, root: TreeNode, val: int) -> TreeNode:\n",
    "        self.node = None\n",
    "        \n",
    "        if root == None:\n",
    "            return root\n",
    "        \n",
    "        \n",
    "        def inorder(root):\n",
    "            if root:\n",
    "                inorder(root.left)\n",
    "                if root.val == val:\n",
    "                    self.node = root\n",
    "                inorder(root.right)\n",
    "            \n",
    "        inorder(root)\n",
    "        \n",
    "        return self.node\n",
    "        "
   ]
  },
  {
   "cell_type": "code",
   "execution_count": null,
   "metadata": {},
   "outputs": [],
   "source": [
    "class Solution(object):\n",
    "    def searchBST(self, root, val):\n",
    "        \"\"\"\n",
    "        :type root: TreeNode\n",
    "        :type val: int\n",
    "        :rtype: TreeNode\n",
    "        \"\"\"\n",
    "        trav = root\n",
    "        while trav:\n",
    "            if trav.val == val:\n",
    "                return trav\n",
    "            elif trav.val < val:\n",
    "                trav = trav.right\n",
    "            else:\n",
    "                trav = trav.left"
   ]
  }
 ],
 "metadata": {
  "kernelspec": {
   "display_name": "Python 3",
   "language": "python",
   "name": "python3"
  },
  "language_info": {
   "codemirror_mode": {
    "name": "ipython",
    "version": 3
   },
   "file_extension": ".py",
   "mimetype": "text/x-python",
   "name": "python",
   "nbconvert_exporter": "python",
   "pygments_lexer": "ipython3",
   "version": "3.7.6"
  }
 },
 "nbformat": 4,
 "nbformat_minor": 4
}
