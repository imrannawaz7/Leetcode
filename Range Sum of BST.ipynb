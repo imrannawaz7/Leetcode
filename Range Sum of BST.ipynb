{
 "cells": [
  {
   "cell_type": "code",
   "execution_count": 1,
   "metadata": {},
   "outputs": [],
   "source": [
    "# Definition for a binary tree node.\n",
    "# class TreeNode:\n",
    "#     def __init__(self, val=0, left=None, right=None):\n",
    "#         self.val = val\n",
    "#         self.left = left\n",
    "#         self.right = right\n",
    "class Solution:\n",
    "    def rangeSumBST(self, root: TreeNode, L: int, R: int) -> int:\n",
    "        self.sum = 0\n",
    "        \n",
    "        def inorder(root):\n",
    "            if not root:\n",
    "                return None\n",
    "            \n",
    "            inorder(root.left)\n",
    "            if L <= root.val <= R:\n",
    "                self.sum += root.val\n",
    "            inorder(root.right)\n",
    "        \n",
    "        inorder(root)\n",
    "        return self.sum"
   ]
  },
  {
   "cell_type": "code",
   "execution_count": null,
   "metadata": {},
   "outputs": [],
   "source": [
    "def rangeSumBST(self, root: TreeNode, L: int, R: int) -> int:\n",
    "        if not root:\n",
    "            return 0\n",
    "        elif root.val < L:\n",
    "            return self.rangeSumBST(root.right, L, R)\n",
    "        elif root.val > R:\n",
    "            return self.rangeSumBST(root.left, L, R)\n",
    "        return root.val + self.rangeSumBST(root.left, L, R) + self.rangeSumBST(root.right, L, R)"
   ]
  }
 ],
 "metadata": {
  "kernelspec": {
   "display_name": "Python 3",
   "language": "python",
   "name": "python3"
  },
  "language_info": {
   "codemirror_mode": {
    "name": "ipython",
    "version": 3
   },
   "file_extension": ".py",
   "mimetype": "text/x-python",
   "name": "python",
   "nbconvert_exporter": "python",
   "pygments_lexer": "ipython3",
   "version": "3.7.6"
  }
 },
 "nbformat": 4,
 "nbformat_minor": 4
}
