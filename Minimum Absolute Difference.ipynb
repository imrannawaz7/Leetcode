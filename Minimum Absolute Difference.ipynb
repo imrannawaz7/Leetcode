{
 "cells": [
  {
   "cell_type": "code",
   "execution_count": 67,
   "metadata": {},
   "outputs": [],
   "source": [
    "def minimumAbsDifference(arr):\n",
    "    arr = sorted(arr)\n",
    "    lst = []\n",
    "    for i in range(len(arr)-1):\n",
    "        lst.append(abs(arr[i]-arr[i+1]))\n",
    "    print(lst)\n",
    "    diff = min(lst)\n",
    "    res = []\n",
    "    for i in range(len(arr)-1):\n",
    "        if abs(arr[i]-arr[i+1])==diff:\n",
    "            res.append([arr[i],arr[i+1]])\n",
    "    return res"
   ]
  },
  {
   "cell_type": "code",
   "execution_count": 68,
   "metadata": {},
   "outputs": [
    {
     "name": "stdout",
     "output_type": "stream",
     "text": [
      "[22, 4, 2, 5, 75]\n",
      "2\n"
     ]
    },
    {
     "data": {
      "text/plain": [
       "[[-25, -23]]"
      ]
     },
     "execution_count": 68,
     "metadata": {},
     "output_type": "execute_result"
    }
   ],
   "source": [
    "minimumAbsDifference([-25,-51,-29,-23,57,-18])"
   ]
  },
  {
   "cell_type": "code",
   "execution_count": null,
   "metadata": {},
   "outputs": [],
   "source": []
  },
  {
   "cell_type": "code",
   "execution_count": null,
   "metadata": {},
   "outputs": [],
   "source": []
  }
 ],
 "metadata": {
  "kernelspec": {
   "display_name": "Python 3",
   "language": "python",
   "name": "python3"
  },
  "language_info": {
   "codemirror_mode": {
    "name": "ipython",
    "version": 3
   },
   "file_extension": ".py",
   "mimetype": "text/x-python",
   "name": "python",
   "nbconvert_exporter": "python",
   "pygments_lexer": "ipython3",
   "version": "3.7.6"
  }
 },
 "nbformat": 4,
 "nbformat_minor": 4
}
