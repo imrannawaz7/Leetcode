{
 "cells": [
  {
   "cell_type": "code",
   "execution_count": 38,
   "metadata": {},
   "outputs": [],
   "source": [
    "def relativeSortArray(arr1,arr2):\n",
    "    from collections import Counter\n",
    "    \n",
    "    order =dict(Counter(arr1))\n",
    "    result=[]\n",
    "    \n",
    "    for i in arr2:\n",
    "        result.extend([i]*order[i])\n",
    "    \n",
    "    left = []\n",
    "    for i in arr1:\n",
    "        if i not in arr2:\n",
    "            left.append(i)\n",
    "            \n",
    "    return result+sorted(left)\n",
    "            "
   ]
  },
  {
   "cell_type": "code",
   "execution_count": 41,
   "metadata": {},
   "outputs": [
    {
     "data": {
      "text/plain": [
       "[2, 2, 2, 1, 4, 3, 3, 9, 6, 7, 19]"
      ]
     },
     "execution_count": 41,
     "metadata": {},
     "output_type": "execute_result"
    }
   ],
   "source": [
    "relativeSortArray([2,3,1,3,2,4,6,7,9,2,19], [2,1,4,3,9,6])"
   ]
  }
 ],
 "metadata": {
  "kernelspec": {
   "display_name": "Python 3",
   "language": "python",
   "name": "python3"
  },
  "language_info": {
   "codemirror_mode": {
    "name": "ipython",
    "version": 3
   },
   "file_extension": ".py",
   "mimetype": "text/x-python",
   "name": "python",
   "nbconvert_exporter": "python",
   "pygments_lexer": "ipython3",
   "version": "3.7.6"
  }
 },
 "nbformat": 4,
 "nbformat_minor": 4
}
